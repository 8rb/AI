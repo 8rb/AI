{
 "cells": [
  {
   "cell_type": "code",
   "execution_count": 6,
   "metadata": {},
   "outputs": [],
   "source": [
    "import json\r\n",
    "from ibm_watson import NaturalLanguageUnderstandingV1\r\n",
    "from ibm_cloud_sdk_core.authenticators import IAMAuthenticator\r\n",
    "from ibm_watson.natural_language_understanding_v1 import Features, CategoriesOptions"
   ]
  },
  {
   "cell_type": "code",
   "execution_count": 7,
   "metadata": {},
   "outputs": [],
   "source": [
    "authenticator = IAMAuthenticator('ZtLcNcbHRJKFQCBYA0JgvbBIptG4N56pYrlAUUftSmPk')\n",
    "natural_language_understanding = NaturalLanguageUnderstandingV1(\n",
    "    version='2020-08-01',\n",
    "    authenticator=authenticator\n",
    ")"
   ]
  },
  {
   "cell_type": "code",
   "execution_count": 8,
   "metadata": {},
   "outputs": [],
   "source": [
    "natural_language_understanding.set_service_url('https://api.us-south.natural-language-understanding.watson.cloud.ibm.com/instances/983a833e-8f91-48bf-983f-99b1616e179b')"
   ]
  },
  {
   "cell_type": "code",
   "execution_count": 9,
   "metadata": {},
   "outputs": [],
   "source": [
    "response = natural_language_understanding.analyze(url='https://es.wikipedia.org/wiki/Miguel_Grau',features=Features(categories=CategoriesOptions(limit=3))).get_result(),"
   ]
  },
  {
   "cell_type": "code",
   "execution_count": 10,
   "metadata": {},
   "outputs": [
    {
     "name": "stdout",
     "output_type": "stream",
     "text": [
      "[\n",
      "  {\n",
      "    \"usage\": {\n",
      "      \"text_units\": 5,\n",
      "      \"text_characters\": 50000,\n",
      "      \"features\": 1\n",
      "    },\n",
      "    \"retrieved_url\": \"https://es.wikipedia.org/wiki/Miguel_Grau\",\n",
      "    \"language\": \"es\",\n",
      "    \"categories\": [\n",
      "      {\n",
      "        \"score\": 0.993075,\n",
      "        \"label\": \"/law, govt and politics/armed forces/navy\"\n",
      "      }\n",
      "    ],\n",
      "    \"warnings\": [\n",
      "      \"Text content exceeds 50000 character limit. Only first 50000 characters processed...\"\n",
      "    ]\n",
      "  }\n",
      "]\n"
     ]
    }
   ],
   "source": [
    "print(json.dumps(response, indent=2))"
   ]
  }
 ],
 "metadata": {
  "kernelspec": {
   "display_name": "Python 3",
   "language": "python",
   "name": "python3"
  },
  "language_info": {
   "codemirror_mode": {
    "name": "ipython",
    "version": 3
   },
   "file_extension": ".py",
   "mimetype": "text/x-python",
   "name": "python",
   "nbconvert_exporter": "python",
   "pygments_lexer": "ipython3",
   "version": "3.8.5"
  },
  "orig_nbformat": 2
 },
 "nbformat": 4,
 "nbformat_minor": 2
}